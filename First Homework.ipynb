{
 "cells": [
  {
   "cell_type": "markdown",
   "id": "85b60c3c",
   "metadata": {},
   "source": [
    "# Почти двойной факториал"
   ]
  },
  {
   "cell_type": "markdown",
   "id": "39723494",
   "metadata": {},
   "source": [
    "Реализуйте функцию almost_double_factorial(n), вычисляющую произведение всех нечётных натуральных чисел, не превосходящих n.\n",
    "В качестве аргумента ей передаётся натуральное (ноль -- натуральное) число n \\leqslant 100n⩽100.\n",
    "Возвращаемое значение - вычисленное произведение.\n",
    "\n",
    "Комментарий. В случае, если n = 0, требуется вернуть 1."
   ]
  },
  {
   "cell_type": "code",
   "execution_count": 9,
   "id": "5e162084",
   "metadata": {},
   "outputs": [],
   "source": [
    "def almost_double_factorial(n):\n",
    "    double_factorial = 1\n",
    "    for i in range(1, n + 1):\n",
    "        if i % 2 != 0:\n",
    "            double_factorial = double_factorial * i\n",
    "    return double_factorial"
   ]
  },
  {
   "cell_type": "code",
   "execution_count": 10,
   "id": "e52253ce",
   "metadata": {},
   "outputs": [
    {
     "data": {
      "text/plain": [
       "1"
      ]
     },
     "execution_count": 10,
     "metadata": {},
     "output_type": "execute_result"
    }
   ],
   "source": [
    "almost_double_factorial(0)"
   ]
  },
  {
   "cell_type": "markdown",
   "id": "146842a3",
   "metadata": {},
   "source": [
    "# Хитрая сортировка"
   ]
  },
  {
   "cell_type": "markdown",
   "id": "85d58312",
   "metadata": {},
   "source": [
    "Пусть у нас есть следующий список, в котором элементы -- tuple из строк:\n",
    "\n",
    "items = [('one', 'two'), ('three', 'four'), ('five', 'six'), ('string', 'a')]\n",
    "Мы хотим отсортировать этот список по последней букве второго элемента каждого tuple, т.е. получить такой список:\n",
    "\n",
    "sorted_items = [ ('string', 'a'), ('one', 'two'), ('three', 'four'), ('five', 'six'),]\n",
    "Напишите код вместо \"<YOUR CODE>\" в следующем выражении, чтобы получить верную сортировку.\n",
    "\n",
    "sorted_items = sorted(items, key=lambda x: <YOUR CODE>)\n",
    " \n",
    "\n",
    "P.S.: в ответе не должно фигурировать слово len .\n",
    "\n",
    "В этом задании функция print вам не понадобится. Необходимо лишь заполнить пропуск."
   ]
  },
  {
   "cell_type": "code",
   "execution_count": 11,
   "id": "9ce87f92",
   "metadata": {},
   "outputs": [],
   "source": [
    "items = [('one', 'two'), ('three', 'four'), ('five', 'six'), ('string', 'a')]"
   ]
  },
  {
   "cell_type": "code",
   "execution_count": 21,
   "id": "bfde358a",
   "metadata": {},
   "outputs": [
    {
     "data": {
      "text/plain": [
       "[('string', 'a'), ('one', 'two'), ('three', 'four'), ('five', 'six')]"
      ]
     },
     "execution_count": 21,
     "metadata": {},
     "output_type": "execute_result"
    }
   ],
   "source": [
    "sorted_items = sorted(items, key=lambda x:(x[1][-1]))\n",
    "sorted_items"
   ]
  },
  {
   "cell_type": "markdown",
   "id": "83b1e4e8",
   "metadata": {},
   "source": [
    "# Слайсы"
   ]
  },
  {
   "cell_type": "markdown",
   "id": "4028f2e9",
   "metadata": {},
   "source": [
    "Дан list x:\n",
    "\n",
    "x = [1, 2, 3, 4, 5]\n",
    "x[<YOUR CODE>] = [-1, -3, -5]\n",
    "\n",
    "x\n",
    "Заполните слайс вместо <YOUR CODE>, чтобы результатом стал следующий list:\n",
    "\n",
    "[-5, 2, -3, 4, -1]\n",
    "Ничего больше менять в коде, например, создавать x или печатать его, не нужно! "
   ]
  },
  {
   "cell_type": "code",
   "execution_count": 23,
   "id": "878accb3",
   "metadata": {},
   "outputs": [],
   "source": [
    "x = [1, 2, 3, 4, 5]"
   ]
  },
  {
   "cell_type": "code",
   "execution_count": 33,
   "id": "f670d33c",
   "metadata": {},
   "outputs": [
    {
     "data": {
      "text/plain": [
       "[-5, 2, -3, 4, -1]"
      ]
     },
     "execution_count": 33,
     "metadata": {},
     "output_type": "execute_result"
    }
   ],
   "source": [
    "x[::-2] = [-1, -3, -5]\n",
    "x"
   ]
  },
  {
   "cell_type": "markdown",
   "id": "c8f4c1c7",
   "metadata": {},
   "source": [
    "# Создание массивов"
   ]
  },
  {
   "cell_type": "markdown",
   "id": "d83ac982",
   "metadata": {},
   "source": [
    "Дан массив A[0,\\ldots,N-1]A[0,…,N−1]. Реализуйте функцию cumsum_and_erase(...), принимающую один обязательный аргумент AA и один опциональный аргумент eraseerase, по умолчанию равный 1.\n",
    "\n",
    "Функция должна выполнять следующие действия: \n",
    "\n",
    "сформировать массив B[0,\\ldots, N-1]B[0,…,N−1], где B_i = A_0 + \\ldots + A_{i}B \n",
    "i\n",
    "​\n",
    " =A \n",
    "0\n",
    "​\n",
    " +…+A \n",
    "i\n",
    "​\n",
    "  --- массив частичных сумм массива AA;\n",
    "удалить из массива BB все элементы, равные параметру eraseerase; получить массив C;\n",
    "вернуть C в качестве ответа\n",
    "Постарайтесь сделать это за время O(N)O(N) без использования Numpy.\n",
    "\n",
    "Пример работы функции: \n",
    "\n",
    "A = [5, 1, 4, 5, 14] \n",
    "B = cumsum_and_erase(A, erase=10) \n",
    "assert B == [5, 6, 15, 29], \"Something is wrong! Please try again\""
   ]
  },
  {
   "cell_type": "code",
   "execution_count": 37,
   "id": "888410e6",
   "metadata": {},
   "outputs": [],
   "source": [
    "def cumsum_and_erase(A, erase=1):\n",
    "    s = 0\n",
    "    C = []   \n",
    "    for i in range(len(A)):\n",
    "        s+=A[i]\n",
    "        if s!=erase: C.append(s)\n",
    "\n",
    "    return C"
   ]
  },
  {
   "cell_type": "markdown",
   "id": "905a36b2",
   "metadata": {},
   "source": [
    "# Обработка текстов"
   ]
  },
  {
   "cell_type": "markdown",
   "id": "01bad7c9",
   "metadata": {},
   "source": [
    "Дан список текстов, слова в которых разделены пробелами (можно считать, что знаков препинания нет). Часть слов является \"мусорными\": в них присутствуют цифры и спецсимволы. Отфильтруйте такие слова из каждого текста.\n",
    "\n",
    "Используйте функции str.split, str.isalpha, str.join, а также list comprehensions.\n",
    "\n",
    "Пример ввода:\n",
    "\n",
    "['1 thousand devils', 'My name is 9Pasha', 'Room #125 costs $100', '888']\n",
    "\n",
    "Пример вывода: \n",
    "\n",
    "['thousand devils', 'My name is', 'Room costs', '']\n",
    "\n",
    "В этом задании функция print вам не понадобится. Результаты выполнения функций нужно возвращать, а не печатать!\n",
    "\n",
    "Если в тексте все слова являются мусорными, текст должен преобразоваться в пустую строку."
   ]
  },
  {
   "cell_type": "code",
   "execution_count": 49,
   "id": "d806a2a7",
   "metadata": {},
   "outputs": [],
   "source": [
    "initial_list = ['1 thousand devils', 'My name is 9Pasha', 'Room #125 costs $100', '888']"
   ]
  },
  {
   "cell_type": "code",
   "execution_count": 88,
   "id": "a173ec2f",
   "metadata": {},
   "outputs": [
    {
     "data": {
      "text/plain": [
       "['thousand devils', 'My name is', 'Room costs', '']"
      ]
     },
     "execution_count": 88,
     "metadata": {},
     "output_type": "execute_result"
    }
   ],
   "source": [
    "def process(sentences):\n",
    "    result = []\n",
    "    splited_items = [item.split(\" \") for item in sentences]\n",
    "    \n",
    "    for elem in splited_items:\n",
    "        string = \" \".join([item for item in elem if item.isalpha()])\n",
    "        result.append(string)\n",
    "    return result\n",
    "\n",
    "process(initial_list)"
   ]
  },
  {
   "cell_type": "markdown",
   "id": "47a03e04",
   "metadata": {},
   "source": [
    "# Собственный класс \"Нейрон\""
   ]
  },
  {
   "cell_type": "markdown",
   "id": "23efb72b",
   "metadata": {},
   "source": [
    "Реализуйте класс \"Нейрон\", у которого будет несколько методов: \n",
    "\n",
    " __init__. Принимает на вход массив весов нейрона --- w = (w_1, \\ldots, w_n)w=(w \n",
    "1\n",
    "​\n",
    " ,…,w \n",
    "n\n",
    "​\n",
    " ), а также функцию активации ff (аргумент по умолчанию f(x) = xf(x)=x). Сохраняет веса и функцию внутри класса.\n",
    "forward. Принимает на вход массив x = (x_1, \\ldots, x_n)x=(x \n",
    "1\n",
    "​\n",
    " ,…,x \n",
    "n\n",
    "​\n",
    " ) --- входы нейрона. Возвращает f(w_1x_1 + \\ldots + w_nx_n)f(w \n",
    "1\n",
    "​\n",
    " x \n",
    "1\n",
    "​\n",
    " +…+w \n",
    "n\n",
    "​\n",
    " x \n",
    "n\n",
    "​\n",
    " ).\n",
    "backlog. Возвращает массив xx, который подавался на вход функции forward при её последнем вызове. Если ранее функция forward не вызывалось, возвращает None.\n",
    "В этом задании функция print вам не понадобится. Результаты выполнения функций нужно возвращать, а не печатать!"
   ]
  },
  {
   "cell_type": "code",
   "execution_count": 96,
   "id": "49fe081b",
   "metadata": {},
   "outputs": [],
   "source": [
    "class Neuron:\n",
    "    def __init__(self, w, f = lambda x: x):\n",
    "        self.w = w\n",
    "        self.x = list()\n",
    "        self.f = f\n",
    "    \n",
    "    def forward(self, x):\n",
    "        self.x = x\n",
    "        s = [self.x[i] * self.w[i] for i in range(0, len(self.w))]\n",
    "        summ = sum(s)\n",
    "        \n",
    "        return self.f(summ)\n",
    "    \n",
    "    def backlog(self):\n",
    "        return self.x\n",
    "        \n",
    "        "
   ]
  },
  {
   "cell_type": "code",
   "execution_count": null,
   "id": "868b4c3c",
   "metadata": {},
   "outputs": [],
   "source": []
  }
 ],
 "metadata": {
  "kernelspec": {
   "display_name": "Python 3 (ipykernel)",
   "language": "python",
   "name": "python3"
  },
  "language_info": {
   "codemirror_mode": {
    "name": "ipython",
    "version": 3
   },
   "file_extension": ".py",
   "mimetype": "text/x-python",
   "name": "python",
   "nbconvert_exporter": "python",
   "pygments_lexer": "ipython3",
   "version": "3.10.4"
  }
 },
 "nbformat": 4,
 "nbformat_minor": 5
}
