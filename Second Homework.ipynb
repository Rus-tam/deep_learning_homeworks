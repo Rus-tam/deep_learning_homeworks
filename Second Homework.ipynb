{
 "cells": [
  {
   "cell_type": "code",
   "execution_count": 1,
   "id": "0866599b",
   "metadata": {},
   "outputs": [],
   "source": [
    "import numpy as np"
   ]
  },
  {
   "cell_type": "markdown",
   "id": "eb0eb703",
   "metadata": {},
   "source": [
    "# Перемножение матриц"
   ]
  },
  {
   "cell_type": "markdown",
   "id": "7c7b7a79",
   "metadata": {},
   "source": [
    "Напишите две функции, каждая из которых перемножает две квадратные матрицы: одна без использования встроенных функций numpy, а другая --- с помощью numpy. На вход первой задаче подаются списки размера size по size элементов в каждом. На вход второй задаче подаются объекты типа np.ndarray --- квадратные матрицы одинакового размера. \n",
    "\n",
    "Первая функция должна возвращать список списков, а вторая -- np.array."
   ]
  },
  {
   "cell_type": "code",
   "execution_count": 17,
   "id": "e6498e33",
   "metadata": {},
   "outputs": [
    {
     "data": {
      "text/plain": [
       "[[19, 22], [43, 50]]"
      ]
     },
     "execution_count": 17,
     "metadata": {},
     "output_type": "execute_result"
    }
   ],
   "source": [
    "# Перемножаем без numpy\n",
    "first = [[1, 2],\n",
    "         [3, 4]]\n",
    "second = [[5, 6],\n",
    "          [7, 8]]\n",
    "def no_numpy_mult(first, second):\n",
    "    result = [[0 for j in range(len(second))] for i in range(len(second[0]))]\n",
    "    \n",
    "    for i in range(len(first)):\n",
    "        for j in range(len(first)):\n",
    "            for k in range(len(first)):\n",
    "                result[i][j] += first[i][k] * second[k][j]\n",
    "    \n",
    "    return result\n",
    "no_numpy_mult(first, second)"
   ]
  },
  {
   "cell_type": "code",
   "execution_count": 21,
   "id": "9d49c51a",
   "metadata": {},
   "outputs": [
    {
     "data": {
      "text/plain": [
       "array([[19, 22],\n",
       "       [43, 50]])"
      ]
     },
     "execution_count": 21,
     "metadata": {},
     "output_type": "execute_result"
    }
   ],
   "source": [
    "# Перемножение с numpy\n",
    "A = [[1, 2],\n",
    "    [3, 4]]\n",
    "B = [[5, 6],\n",
    "    [7, 8]]\n",
    "first = np.array(A)\n",
    "second = np.array(B)\n",
    "def numpy_mult(first, second):\n",
    "\n",
    "    return np.matmul(first, second)\n",
    "numpy_mult(first, second)"
   ]
  },
  {
   "cell_type": "markdown",
   "id": "0797281c",
   "metadata": {},
   "source": [
    "# Скалярное произведение векторов"
   ]
  },
  {
   "cell_type": "markdown",
   "id": "45a0884c",
   "metadata": {},
   "source": [
    "Вам подаются на вход два вектора a и b в трехмерном пространстве. Реализуйте их скалярное произведение с помощью numpy и без. "
   ]
  },
  {
   "cell_type": "code",
   "execution_count": 24,
   "id": "9f3a1610",
   "metadata": {},
   "outputs": [
    {
     "data": {
      "text/plain": [
       "88"
      ]
     },
     "execution_count": 24,
     "metadata": {},
     "output_type": "execute_result"
    }
   ],
   "source": [
    "# Скалярное произведение без numpy\n",
    "v1 = [1, 3, 4]\n",
    "v2 = [5, 9, 14]\n",
    "def no_numpy_scalar(v1, v2):\n",
    "    result = 0\n",
    "    for x, y in zip(v1, v2):\n",
    "        result += x * y\n",
    "    return result\n",
    "no_numpy_scalar(v1, v2)"
   ]
  },
  {
   "cell_type": "code",
   "execution_count": 25,
   "id": "ffc2ad65",
   "metadata": {},
   "outputs": [
    {
     "data": {
      "text/plain": [
       "88"
      ]
     },
     "execution_count": 25,
     "metadata": {},
     "output_type": "execute_result"
    }
   ],
   "source": [
    "# Скалярное произведение с numpy\n",
    "v1 = [1, 3, 4]\n",
    "v2 = [5, 9, 14]\n",
    "def numpy_scalar (v1, v2):\n",
    "    return np.dot(v1, v2)\n",
    "numpy_scalar(v1, v2)"
   ]
  },
  {
   "cell_type": "markdown",
   "id": "266c9035",
   "metadata": {},
   "source": [
    "# Сумму четных элементов на диагонали матрицы"
   ]
  },
  {
   "cell_type": "markdown",
   "id": "e9a01572",
   "metadata": {},
   "source": [
    "Напишите функцию, которая находит сумму четных элементов на главной диагонали квадратной матрицы (именно чётных элементов, а не элементов на чётных позициях!). Если чётных элементов нет, то вывести 0. Используйте библиотеку numpy."
   ]
  },
  {
   "cell_type": "code",
   "execution_count": 33,
   "id": "c715065b",
   "metadata": {},
   "outputs": [
    {
     "data": {
      "text/plain": [
       "66"
      ]
     },
     "execution_count": 33,
     "metadata": {},
     "output_type": "execute_result"
    }
   ],
   "source": [
    "A = [[12, 3, 4, 8],\n",
    "    [10, 5, 32, 90],\n",
    "    [65, 94, 54, 14]]\n",
    "a = np.array(A)\n",
    "def diag_2k(a):\n",
    "    even_elem = [elem for elem in np.diagonal(a) if elem % 2 == 0]\n",
    "    \n",
    "    return sum(even_elem)\n",
    "    \n",
    "diag_2k(a)"
   ]
  },
  {
   "cell_type": "markdown",
   "id": "a2d9aa1e",
   "metadata": {},
   "source": [
    "# Задание с двумерным массивом и непонятным условием"
   ]
  },
  {
   "cell_type": "markdown",
   "id": "27dbf7e6",
   "metadata": {},
   "source": [
    "На вход дан двумерный массив XX. Напишите функцию, которая для каждой строчки x = (x_1, x_2, \\ldots, x_n)x=(x \n",
    "1\n",
    "​\n",
    " ,x \n",
    "2\n",
    "​\n",
    " ,…,x \n",
    "n\n",
    "​\n",
    " ) массива XX строит строчку s = (s_1, s_2, \\ldots, s_n)s=(s \n",
    "1\n",
    "​\n",
    " ,s \n",
    "2\n",
    "​\n",
    " ,…,s \n",
    "n\n",
    "​\n",
    " ), где s_k=x_1+...+x_ks \n",
    "k\n",
    "​\n",
    " =x \n",
    "1\n",
    "​\n",
    " +...+x \n",
    "k\n",
    "​\n",
    " , а затем выдаёт массив из построенных строчек. Используйте библиотеку numpy (вам поможет функция cumsum). Выходом функции должен быть двумерный массив той же формы, что и XX."
   ]
  },
  {
   "cell_type": "code",
   "execution_count": 36,
   "id": "35f7278c",
   "metadata": {},
   "outputs": [
    {
     "data": {
      "text/plain": [
       "array([[ 1,  3,  6],\n",
       "       [ 4,  9, 15],\n",
       "       [ 7, 15, 24]])"
      ]
     },
     "execution_count": 36,
     "metadata": {},
     "output_type": "execute_result"
    }
   ],
   "source": [
    "A = np.array([[1,2,3], [4,5,6], [7,8,9]])\n",
    "def cumsum(A):\n",
    "\n",
    "    return np.cumsum(A, axis=-1)\n",
    "cumsum(A)"
   ]
  },
  {
   "cell_type": "markdown",
   "id": "0304f033",
   "metadata": {},
   "source": [
    "# Склеивание"
   ]
  },
  {
   "cell_type": "markdown",
   "id": "ec40fbf2",
   "metadata": {},
   "source": [
    "Задан двумерный массив XX. Для каждой строчки массива XX необходимо сделать следующее преобразование.\n",
    "\n",
    "Пусть дана строчка xx. Необходимо построить новый массив, где все элементы с нечетными индексами требуется заменить на число aa (значение по умолчанию a = 1a=1). Все элементы с четными индексами нужно возвести в куб. Затем записать элементы в обратном порядке относительно их позиций. В конце требуется слить массив xx с преобразованным xx и вернуть на выход функции (естественно, выход должен быть numpy-массивом).\n",
    "\n",
    "Напишите функцию, которая выполняет данное преобразование для каждой строчки двумерного массива XX. Массив XX при этом должен остаться без изменений.\n",
    "\n",
    "Используйте библиотеку numpy.\n",
    "\n",
    "Пример:\n",
    "x = [[100, 200, 300, 400, 500100,200,300,400,500]] -> [[100, a, 300, a, 500100,a,300,a,500]] -> [[500^3, a, 300^3, a, 100^3500 \n",
    "3\n",
    " ,a,300 \n",
    "3\n",
    " ,a,100 \n",
    "3\n",
    " ]] -> склеиваем -> [[100, 200, 300, 400, 500, 500^3, a, 300^3, a, 100^3100,200,300,400,500,500 \n",
    "3\n",
    " ,a,300 \n",
    "3\n",
    " ,a,100 \n",
    "3\n",
    " ]]"
   ]
  },
  {
   "cell_type": "code",
   "execution_count": 66,
   "id": "be08be37",
   "metadata": {},
   "outputs": [
    {
     "data": {
      "text/plain": [
       "array([[  2,   3,   4,   5,   6, 216,   1,  64,   1,   8]])"
      ]
     },
     "execution_count": 66,
     "metadata": {},
     "output_type": "execute_result"
    }
   ],
   "source": [
    "# X = np.array([[100, 200, 300, 400, 500100,200,300,400,500]])\n",
    "X = np.array([[2, 3, 4, 5, 6]])\n",
    "def transform(X, a=1):\n",
    "    B = []\n",
    "    D = X.copy()\n",
    "    for i in range(X.shape[0]):\n",
    "        for j in range(len(X[i])):\n",
    "            if (j % 2 == 1):\n",
    "                D[i][j] = a\n",
    "            elif (j % 2 == 0):\n",
    "                D[i][j] = np.power(D[i][j], 3)\n",
    "        reversed = np.flip(D[i], axis=0)\n",
    "        B.append(reversed)\n",
    "    B = np.asarray(B)\n",
    "    result = np.hstack((X, B))\n",
    "    return result\n",
    "    \n",
    "    \n",
    "\n",
    "transform(X)"
   ]
  },
  {
   "cell_type": "markdown",
   "id": "848b42b8",
   "metadata": {},
   "source": [
    "# Последнее задание"
   ]
  },
  {
   "cell_type": "markdown",
   "id": "c3a3c280",
   "metadata": {},
   "source": [
    "С помощью numpy написать функцию для кодирования массива (Run-length encoding). Все подряд повторения элементов функция сжимает в один элемент и считает количество повторений. Функция возвращает кортеж из двух numpy-векторов одинаковой длины. Первый содержит элементы, а второй — сколько раз их нужно повторить.\n",
    "\n",
    "Пример: encode(np.array([1, 2, 2, 3, 3, 1, 1, 5, 5, 2, 3, 3])) = (np.array([1, 2, 3, 1, 5, 2, 3]), np.array([1, 2, 2, 2, 2, 1, 2]))"
   ]
  },
  {
   "cell_type": "code",
   "execution_count": 67,
   "id": "09d4d35f",
   "metadata": {},
   "outputs": [],
   "source": [
    "def encode(x):\n",
    "    x = np.asanyarray(x)\n",
    "    n = x.shape[0]\n",
    "    if n == 0:\n",
    "        return np.array([]), np.array([]), np.array([])\n",
    "    else:\n",
    "        loc_run_start = np.empty(n, dtype=bool)\n",
    "        loc_run_start[0] = True\n",
    "        np.not_equal(x[:-1], x[1:], out=loc_run_start[1:])\n",
    "        run_starts = np.nonzero(loc_run_start)[0]\n",
    "        run_values = x[loc_run_start]\n",
    "        run_lengths = np.diff(np.append(run_starts, n))\n",
    "\n",
    "        return run_values, run_lengths"
   ]
  },
  {
   "cell_type": "code",
   "execution_count": null,
   "id": "04538076",
   "metadata": {},
   "outputs": [],
   "source": []
  }
 ],
 "metadata": {
  "kernelspec": {
   "display_name": "Python 3 (ipykernel)",
   "language": "python",
   "name": "python3"
  },
  "language_info": {
   "codemirror_mode": {
    "name": "ipython",
    "version": 3
   },
   "file_extension": ".py",
   "mimetype": "text/x-python",
   "name": "python",
   "nbconvert_exporter": "python",
   "pygments_lexer": "ipython3",
   "version": "3.10.4"
  }
 },
 "nbformat": 4,
 "nbformat_minor": 5
}
